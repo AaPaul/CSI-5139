{
 "cells": [
  {
   "cell_type": "markdown",
   "metadata": {},
   "source": [
    "# Assignment 2"
   ]
  },
  {
   "cell_type": "markdown",
   "metadata": {},
   "source": [
    "## 2.1 Load images\n",
    "\n",
    "In this part, I used openCV to read gray images with resizing 64*64 and stored images by a list. Then I used the pandas library to encapsulate file names and images. \n",
    "\n",
    "**NOTE**：I cannot run all part at the same time as the capacity of RAM is not big enough for all part loading data. So, when I do not need 1 variable any more, I will use collect function in gc library to reclaim memory, but I do not write this part in this file into the report."
   ]
  },
  {
   "cell_type": "code",
   "execution_count": 1,
   "metadata": {},
   "outputs": [],
   "source": [
    "from __future__ import absolute_import, division, print_function\n",
    "import skimage\n",
    "import os\n",
    "import matplotlib\n",
    "import matplotlib.pyplot as plt\n",
    "import sklearn\n",
    "import numpy as np\n",
    "import pandas as pd\n",
    "from PIL import Image\n",
    "import cv2\n",
    "from sklearn.metrics import accuracy_score, precision_score, recall_score\n",
    "import time\n",
    "import warnings\n",
    "warnings.filterwarnings(\"ignore\")\n",
    "\n",
    "dir1 = \"/home/jupyter_cnn/assignment2/sub1to10\"\n",
    "dir2 = \"/home/jupyter_cnn/assignment2/sub31to40\"\n",
    "def load_images(path):\n",
    "    image_list = []\n",
    "    file_list = []\n",
    "    for root, dirs, files in os.walk(dir1):\n",
    "        for filenames in files:\n",
    "            if(filenames.split('.')[1] == \"png\"):\n",
    "                # reading images into gray\n",
    "                img = cv2.imread(os.path.join(root, filenames), 0).astype('float32')\n",
    "                img_rescale = cv2.resize(img, (64, 64))\n",
    "                image_list.append(img_rescale)\n",
    "                file_list.append(filenames)\n",
    "    return file_list, image_list\n",
    "\n",
    "file_list1, image_list1 = load_images(dir1)\n",
    "df1 = pd.DataFrame({'filenames':file_list1, 'images':image_list1})"
   ]
  },
  {
   "cell_type": "code",
   "execution_count": 2,
   "metadata": {},
   "outputs": [
    {
     "name": "stdout",
     "output_type": "stream",
     "text": [
      "460\n",
      "(64, 64)\n"
     ]
    }
   ],
   "source": [
    "# test\n",
    "print(len(df1))\n",
    "print(df1['images'][0].shape)"
   ]
  },
  {
   "cell_type": "markdown",
   "metadata": {},
   "source": [
    "## 2.2 Template Matching\n",
    "\n",
    "In this part, I choosed a function named \"match_template\" from sklearn which is used to calculate the smilarity of 2 images relying on normalized cross-correlation.\n",
    "\n",
    "The way to use this function:\n",
    "Choosing 2 images as the input data, and it will return a float tpye number between 0 and 1. The higher value of this number, the more similar of these 2 images.\n",
    "\n",
    "By the file names, I created the training label and testing label which are 105570 and 73536 respectively. Value 1 means the same face, 0 means the different.\n",
    "    \n",
    "I set 3 different thresholds for comparison which are 0.75, 0.8 and 0.9 respectively. Based on these threshold, we can see the difference of accuracy with 3 different threshold. "
   ]
  },
  {
   "cell_type": "markdown",
   "metadata": {},
   "source": [
    "### create training label and testing label"
   ]
  },
  {
   "cell_type": "code",
   "execution_count": 2,
   "metadata": {},
   "outputs": [],
   "source": [
    "from skimage.feature import match_template\n",
    "\n",
    "def creat_label(df):\n",
    "    y_list = []\n",
    "    for i in range(len(df)):\n",
    "        j = i+1\n",
    "        while(j < len(df)):\n",
    "\n",
    "            if(df.iloc[i, 0].split('_')[0] == df.iloc[j, 0].split('_')[0]):\n",
    "                y_list.append(1)\n",
    "            else:\n",
    "                y_list.append(0)\n",
    "#             if (i==1 and j==2):\n",
    "#                 img = np.append(df.iloc[i, 1], df.iloc[j, 1], axis=0)\n",
    "#                 plt.imshow(img)\n",
    "#                 print(df.iloc[i, 0].split('_')[0] == df.iloc[j, 0].split('_')[0])\n",
    "            j += 1\n",
    "    return np.array(y_list)\n",
    "\n",
    "# creat training label \n",
    "y = creat_label(df1)\n"
   ]
  },
  {
   "cell_type": "code",
   "execution_count": 4,
   "metadata": {},
   "outputs": [
    {
     "name": "stdout",
     "output_type": "stream",
     "text": [
      "105570\n"
     ]
    }
   ],
   "source": [
    "print(len(y))"
   ]
  },
  {
   "cell_type": "markdown",
   "metadata": {},
   "source": [
    "### match_template\n",
    "Using time library to calculate the running time of match_template. From the output, we can see it takes 247s to run this part."
   ]
  },
  {
   "cell_type": "code",
   "execution_count": 3,
   "metadata": {},
   "outputs": [],
   "source": [
    "# match_template. To calculate the similarity between 2 images in 105570 different combinations\n",
    "\n",
    "def match(df):\n",
    "    result = []\n",
    "    for i in range(len(df)):\n",
    "        j = i+1\n",
    "        while(j < len(df)):\n",
    "            res = match_template(df.iloc[i, 1], df.iloc[j, 1]).flatten()        \n",
    "            result.append(res)\n",
    "            j += 1\n",
    "    return np.array(result)"
   ]
  },
  {
   "cell_type": "code",
   "execution_count": null,
   "metadata": {},
   "outputs": [],
   "source": [
    "start = time.time()\n",
    "result_train = match(df1)\n",
    "end = time.time()\n",
    "print(\"runing time:{0}\".format(end-start))\n",
    "\n",
    "result_train[:10]"
   ]
  },
  {
   "cell_type": "markdown",
   "metadata": {},
   "source": [
    "### creat  data set\n",
    "validation data set includes 1000 images with 1000 label, while training data set includes 104570 images with their label. Actually, \"X_train\" means the result array from matching part."
   ]
  },
  {
   "cell_type": "code",
   "execution_count": 3,
   "metadata": {},
   "outputs": [],
   "source": [
    "np.random.seed(10)\n",
    "shuffle_index = np.random.permutation(105570)\n",
    "y_val, y_train = y[shuffle_index[:1000]], y[shuffle_index[1000: ]]"
   ]
  },
  {
   "cell_type": "code",
   "execution_count": null,
   "metadata": {},
   "outputs": [],
   "source": [
    "X_val, X_train = result_train[shuffle_index[:1000], :], result_train[shuffle_index[1000: ], :]"
   ]
  },
  {
   "cell_type": "markdown",
   "metadata": {},
   "source": [
    "### prediction\n",
    "\"Pred\" funtcion is to decide whether these 2 images are the same or not according to the threshold and matching result. In this part, I set 3 thresholds for comparisionw which are 0.75, 0.8 and 0.9 respectively. From the results, when threshold is 0.9, the accuracy reached almost 89% while all precisions and recalls are not good enough."
   ]
  },
  {
   "cell_type": "code",
   "execution_count": 7,
   "metadata": {},
   "outputs": [],
   "source": [
    "def pred(threshold, X_train):\n",
    "    y_train_pred_list = []\n",
    "    for res in X_train:\n",
    "        if (res > threshold):\n",
    "            y_train_pred_list.append(1)\n",
    "        else:\n",
    "            y_train_pred_list.append(0)\n",
    "    return np.array(y_train_pred_list)"
   ]
  },
  {
   "cell_type": "code",
   "execution_count": null,
   "metadata": {},
   "outputs": [],
   "source": [
    "# to decide if two images show the same face by the threshold 0.75   \n",
    "y_train_pred1 = pred(0.75, X_train)\n",
    "y_val_pred1 = pred(0.75, X_val)\n",
    "\n",
    "# to decide if two images show the same face by the threshold 0.8       \n",
    "y_train_pred2 = pred(0.80, X_train)\n",
    "y_val_pred2 = pred(0.80, X_val)\n",
    "\n",
    "# to decide if two images show the same face by the threshold 0.9       \n",
    "y_train_pred3 = pred(0.90, X_train)\n",
    "y_val_pred3 = pred(0.90, X_val)"
   ]
  },
  {
   "cell_type": "markdown",
   "metadata": {},
   "source": [
    "The comparision of training and validation. The threshold in the first line is 0.75 and the next line is 0.8 and the last one is for 0.9"
   ]
  },
  {
   "cell_type": "code",
   "execution_count": 44,
   "metadata": {},
   "outputs": [
    {
     "data": {
      "text/html": [
       "<div>\n",
       "<style scoped>\n",
       "    .dataframe tbody tr th:only-of-type {\n",
       "        vertical-align: middle;\n",
       "    }\n",
       "\n",
       "    .dataframe tbody tr th {\n",
       "        vertical-align: top;\n",
       "    }\n",
       "\n",
       "    .dataframe thead th {\n",
       "        text-align: right;\n",
       "    }\n",
       "</style>\n",
       "<table border=\"1\" class=\"dataframe\">\n",
       "  <thead>\n",
       "    <tr style=\"text-align: right;\">\n",
       "      <th></th>\n",
       "      <th>accuracy_train</th>\n",
       "      <th>precision_train</th>\n",
       "      <th>recall_train</th>\n",
       "    </tr>\n",
       "  </thead>\n",
       "  <tbody>\n",
       "    <tr>\n",
       "      <th>0</th>\n",
       "      <td>0.950426</td>\n",
       "      <td>0.754039</td>\n",
       "      <td>0.733288</td>\n",
       "    </tr>\n",
       "    <tr>\n",
       "      <th>1</th>\n",
       "      <td>0.950426</td>\n",
       "      <td>0.891335</td>\n",
       "      <td>0.624378</td>\n",
       "    </tr>\n",
       "    <tr>\n",
       "      <th>2</th>\n",
       "      <td>0.934685</td>\n",
       "      <td>1.000000</td>\n",
       "      <td>0.333463</td>\n",
       "    </tr>\n",
       "  </tbody>\n",
       "</table>\n",
       "</div>"
      ],
      "text/plain": [
       "   accuracy_train   precision_train   recall_train \n",
       "0         0.950426          0.754039       0.733288\n",
       "1         0.950426          0.891335       0.624378\n",
       "2         0.934685          1.000000       0.333463"
      ]
     },
     "execution_count": 44,
     "metadata": {},
     "output_type": "execute_result"
    },
    {
     "data": {
      "text/html": [
       "<div>\n",
       "<style scoped>\n",
       "    .dataframe tbody tr th:only-of-type {\n",
       "        vertical-align: middle;\n",
       "    }\n",
       "\n",
       "    .dataframe tbody tr th {\n",
       "        vertical-align: top;\n",
       "    }\n",
       "\n",
       "    .dataframe thead th {\n",
       "        text-align: right;\n",
       "    }\n",
       "</style>\n",
       "<table border=\"1\" class=\"dataframe\">\n",
       "  <thead>\n",
       "    <tr style=\"text-align: right;\">\n",
       "      <th></th>\n",
       "      <th>accuracy_val</th>\n",
       "      <th>precision_val</th>\n",
       "      <th>recall_val</th>\n",
       "    </tr>\n",
       "  </thead>\n",
       "  <tbody>\n",
       "    <tr>\n",
       "      <th>0</th>\n",
       "      <td>0.948</td>\n",
       "      <td>0.752475</td>\n",
       "      <td>0.737864</td>\n",
       "    </tr>\n",
       "    <tr>\n",
       "      <th>1</th>\n",
       "      <td>0.949</td>\n",
       "      <td>0.842105</td>\n",
       "      <td>0.621359</td>\n",
       "    </tr>\n",
       "    <tr>\n",
       "      <th>2</th>\n",
       "      <td>0.930</td>\n",
       "      <td>1.000000</td>\n",
       "      <td>0.320388</td>\n",
       "    </tr>\n",
       "  </tbody>\n",
       "</table>\n",
       "</div>"
      ],
      "text/plain": [
       "   accuracy_val   precision_val   recall_val \n",
       "0          0.948        0.752475     0.737864\n",
       "1          0.949        0.842105     0.621359\n",
       "2          0.930        1.000000     0.320388"
      ]
     },
     "execution_count": 44,
     "metadata": {},
     "output_type": "execute_result"
    }
   ],
   "source": [
    "from IPython.core.interactiveshell import InteractiveShell \n",
    "InteractiveShell.ast_node_interactivity = \"all\" # 'last_expr'\n",
    "\n",
    "acc1 = [accuracy_score(y_train, y_train_pred1), accuracy_score(y_train, y_train_pred1),accuracy_score(y_train, y_train_pred3)]\n",
    "precsion1 = [precision_score(y_train, y_train_pred1), precision_score(y_train, y_train_pred2), precision_score(y_train, y_train_pred3)]\n",
    "recall1 = [recall_score(y_train, y_train_pred1), recall_score(y_train, y_train_pred2), recall_score(y_train, y_train_pred3)]\n",
    "df_comp_train = pd.DataFrame({'accuracy_train ': acc1,'precision_train ': precsion1, 'recall_train ': recall1})\n",
    "\n",
    "\n",
    "acc2 = [accuracy_score(y_val, y_val_pred1), accuracy_score(y_val, y_val_pred2), accuracy_score(y_val, y_val_pred3)]\n",
    "precsion2 = [precision_score(y_val, y_val_pred1), precision_score(y_val, y_val_pred2), precision_score(y_val, y_val_pred3)]\n",
    "recall2 = [recall_score(y_val, y_val_pred1), recall_score(y_val, y_val_pred2), recall_score(y_val, y_val_pred3)]\n",
    "df_comp_val = pd.DataFrame({'accuracy_val ': acc2,'precision_val ': precsion2, 'recall_val ': recall2})\n",
    "\n",
    "df_comp_train\n",
    "df_comp_val"
   ]
  },
  {
   "cell_type": "markdown",
   "metadata": {},
   "source": [
    "## 2.3 MLP\n",
    "The reason why this part can use the same label with Template Matching part is that the sequency of preprocessing data between these 2 part is same, so the final label will be same as well. I also test this idea and the result is the same as it. \n",
    "\n",
    "I use 2 different ways to build the MLP classifier for comparision. One is based on keras to build dense layers, and the other is based on MLPClassifier in sklearn. Both of them are not good enough. "
   ]
  },
  {
   "cell_type": "markdown",
   "metadata": {},
   "source": [
    "### Preprocess data\n",
    "combine 2 images with 128*64 shape "
   ]
  },
  {
   "cell_type": "code",
   "execution_count": 4,
   "metadata": {},
   "outputs": [],
   "source": [
    "def preprocessing(df):    \n",
    "    train_data = []\n",
    "    for i in range(len(df)):\n",
    "        j = i+1\n",
    "        while(j < len(df)):\n",
    "            X = np.append(df.iloc[i, 1], df.iloc[j, 1], axis=0)\n",
    "            train_data.append(X)\n",
    "            j += 1\n",
    "    return np.array(train_data).reshape(105570, 128*64)\n"
   ]
  },
  {
   "cell_type": "code",
   "execution_count": 5,
   "metadata": {},
   "outputs": [
    {
     "name": "stdout",
     "output_type": "stream",
     "text": [
      "(105570, 8192)\n"
     ]
    }
   ],
   "source": [
    "X = preprocessing(df1)\n",
    "print(X.shape)\n",
    "X_val_M, X_train_M = X[shuffle_index[:1000], :], X[shuffle_index[1000:], :]"
   ]
  },
  {
   "cell_type": "code",
   "execution_count": null,
   "metadata": {},
   "outputs": [],
   "source": []
  },
  {
   "attachments": {
    "Screenshot%20from%202019-10-23%2010-14-46.png": {
     "image/png": "[encoded data removed]"
    },
    "Screenshot%20from%202019-10-23%2010-16-27.png": {
     "image/png": "[encoded data removed]"
    },
    "Screenshot%20from%202019-10-23%2010-21-18.png": {
     "image/png": "[encoded data removed]"
    },
    "Screenshot%20from%202019-10-23%2010-27-07.png": {
     "image/png": "[encoded data removed]"
    },
    "Screenshot%20from%202019-10-23%2010-29-55.png": {
     "image/png": "[encoded data removed]"
    }
   },
   "cell_type": "markdown",
   "metadata": {},
   "source": [
    "### build MLP by keras\n",
    "**In this way, I finally build 2 dense layers in MLP model which have 128 units and 256 units respectively with a batch normalization layer named 'model3'(*Figure.1*) which is located in the second layer which recieves the data after being flatten. Each dense layer uses ReLU activation function. The output layer uses softmax function for classification. There are only 2 results so the number of units are 2. This model uses sparse_categorical_crossentropy as loss function with 1e-4 learning rate. The optimizer is Adam. I choosed binaray_crossentropy while the result was terrible(*Figure 2*).**\n",
    "![Screenshot%20from%202019-10-23%2010-29-55.png](attachment:Screenshot%20from%202019-10-23%2010-29-55.png)\n",
    "<center>Figure.1 model3</center>\n",
    "\n",
    "![Screenshot%20from%202019-10-23%2010-14-46.png](attachment:Screenshot%20from%202019-10-23%2010-14-46.png)\n",
    "<center>Figure.2 using binaray_crossentropy</center>\n",
    "\n",
    "**I trained 3 different models withou a BN layer with different number of units of dense layers((32, 32), (64, 128) and (128, 256)). THe loss always keep decresing in the first epochs of training while then it keeps at around 0.32.**\n",
    "![Screenshot%20from%202019-10-23%2010-21-18.png](attachment:Screenshot%20from%202019-10-23%2010-21-18.png)\n",
    "<center>Figure.3 with (128,256) units</center>\n",
    "\n",
    "![Screenshot%20from%202019-10-23%2010-16-27.png](attachment:Screenshot%20from%202019-10-23%2010-16-27.png)\n",
    "<center>Figure.4 with (32,32) units</center>\n",
    "\n",
    "![Screenshot%20from%202019-10-23%2010-27-07.png](attachment:Screenshot%20from%202019-10-23%2010-27-07.png)\n",
    "<center>Figure.5 with (64,128) units</center>\n",
    "\n",
    "**I also tried different learning rates and the results with all learning rates were similar. The precision score and recall scores were not good on '1' which means the same face. In order to prove that there are the same face in training data set, I sampled one from dataset and visualized it.**\n",
    "\n",
    "**It is clearly that the big change between 'model3' and 'model'(the first model of MLP) is the performance from the results. Predictions of the former one are almost correct and although the latter one has high accuracy, it is not reliable as almost all images mean the negative(different face). So, the first model is not good as it cannot recognize the same face. As we can see it plays an important role for MLP to have enought big dense layer and BN layer. Enough units in dense layer can get more features from images and BN laer sovles the problem named gradient vanishing. It is clearly to see the first model keeps 0.32 loss as it cannot learn the feartures from the images**"
   ]
  },
  {
   "cell_type": "code",
   "execution_count": 7,
   "metadata": {},
   "outputs": [],
   "source": [
    "import tensorflow as tf\n",
    "from tensorflow.keras import layers, models\n",
    "from tensorflow.keras.models import Sequential\n",
    "from tensorflow.keras.layers import Dense, Flatten, Dropout, BatchNormalization\n",
    "import time\n",
    "from sklearn.metrics import classification_report"
   ]
  },
  {
   "cell_type": "code",
   "execution_count": 18,
   "metadata": {
    "scrolled": true
   },
   "outputs": [
    {
     "name": "stdout",
     "output_type": "stream",
     "text": [
      "Train on 104570 samples, validate on 1000 samples\n",
      "Epoch 1/5\n",
      "104570/104570 [==============================] - 9s 83us/sample - loss: 1.0686 - acc: 0.8842 - val_loss: 0.2926 - val_acc: 0.8970\n",
      "Epoch 2/5\n",
      "104570/104570 [==============================] - 8s 79us/sample - loss: 0.2875 - acc: 0.9020 - val_loss: 0.3318 - val_acc: 0.8970\n",
      "Epoch 3/5\n",
      "104570/104570 [==============================] - 8s 77us/sample - loss: 0.3207 - acc: 0.9020 - val_loss: 0.3327 - val_acc: 0.8970\n",
      "Epoch 4/5\n",
      "104570/104570 [==============================] - 8s 75us/sample - loss: 0.3209 - acc: 0.9020 - val_loss: 0.3316 - val_acc: 0.8970\n",
      "Epoch 5/5\n",
      "104570/104570 [==============================] - 8s 76us/sample - loss: 0.3209 - acc: 0.9020 - val_loss: 0.3316 - val_acc: 0.8970\n"
     ]
    }
   ],
   "source": [
    "model = Sequential()\n",
    "model.add(Flatten())\n",
    "# model.add(BatchNormalization())\n",
    "model.add(Dense(64, activation='relu', input_shape=(128, 64)))\n",
    "model.add(Dense(128, activation='relu'))\n",
    "model.add(Dense(2, activation='softmax'))\n",
    "model.compile(loss='sparse_categorical_crossentropy',\n",
    "              learning_rate = '1e-4',\n",
    "              optimizer='adam',\n",
    "              metrics=['accuracy'])\n",
    "start = time.time()\n",
    "history = model.fit(X_train_M, y_train, epochs=5, validation_data=(X_val_M, y_val))\n",
    "end = time.time()"
   ]
  },
  {
   "cell_type": "code",
   "execution_count": 19,
   "metadata": {},
   "outputs": [
    {
     "name": "stdout",
     "output_type": "stream",
     "text": [
      "runing time:41.45021653175354\n"
     ]
    }
   ],
   "source": [
    "print(\"runing time:{0}\".format(end - start))"
   ]
  },
  {
   "cell_type": "code",
   "execution_count": 20,
   "metadata": {},
   "outputs": [
    {
     "name": "stdout",
     "output_type": "stream",
     "text": [
      "              precision    recall  f1-score   support\n",
      "\n",
      "           0       1.00      0.90      0.95      1000\n",
      "           1       0.00      0.00      0.00         0\n",
      "\n",
      "    accuracy                           0.90      1000\n",
      "   macro avg       0.50      0.45      0.47      1000\n",
      "weighted avg       1.00      0.90      0.95      1000\n",
      "\n"
     ]
    }
   ],
   "source": [
    "prediction = model.predict_classes(X_val_M)\n",
    "print(classification_report(prediction, y_val))\n"
   ]
  },
  {
   "cell_type": "code",
   "execution_count": 76,
   "metadata": {},
   "outputs": [
    {
     "name": "stdout",
     "output_type": "stream",
     "text": [
      "1\n"
     ]
    },
    {
     "data": {
      "text/plain": [
       "<matplotlib.image.AxesImage at 0x7f4457c06588>"
      ]
     },
     "execution_count": 76,
     "metadata": {},
     "output_type": "execute_result"
    },
    {
     "data": {
      "image/png": "[encoded data removed]",
      "text/plain": [
       "<Figure size 432x288 with 1 Axes>"
      ]
     },
     "metadata": {
      "needs_background": "light"
     },
     "output_type": "display_data"
    }
   ],
   "source": [
    "img1 = X_train_M[57].reshape(128, 64)\n",
    "print(y_train[57])\n",
    "plt.imshow(img1)"
   ]
  },
  {
   "cell_type": "code",
   "execution_count": 21,
   "metadata": {},
   "outputs": [
    {
     "name": "stdout",
     "output_type": "stream",
     "text": [
      "Train on 104570 samples, validate on 1000 samples\n",
      "Epoch 1/5\n",
      "104570/104570 [==============================] - 11s 103us/sample - loss: 0.1004 - acc: 0.9750 - val_loss: 4.1581e-04 - val_acc: 1.0000\n",
      "Epoch 2/5\n",
      "104570/104570 [==============================] - 10s 99us/sample - loss: 0.0212 - acc: 0.9956 - val_loss: 0.0017 - val_acc: 0.9980\n",
      "Epoch 3/5\n",
      "104570/104570 [==============================] - 10s 96us/sample - loss: 0.0166 - acc: 0.9968 - val_loss: 3.3312e-05 - val_acc: 1.0000\n",
      "Epoch 4/5\n",
      "104570/104570 [==============================] - 10s 96us/sample - loss: 0.0116 - acc: 0.9977 - val_loss: 4.7072e-06 - val_acc: 1.0000\n",
      "Epoch 5/5\n",
      "104570/104570 [==============================] - 10s 96us/sample - loss: 0.0104 - acc: 0.9985 - val_loss: 0.0324 - val_acc: 0.9950\n"
     ]
    }
   ],
   "source": [
    "model3 = Sequential()\n",
    "model3.add(Flatten())\n",
    "model3.add(BatchNormalization())\n",
    "model3.add(Dense(128, activation='relu', input_shape=(128, 64)))\n",
    "model3.add(Dense(256, activation='relu'))\n",
    "model3.add(Dense(2, activation='softmax'))\n",
    "model3.compile(loss='sparse_categorical_crossentropy',\n",
    "              learning_rate = '1e-4',\n",
    "              optimizer='adam',\n",
    "              metrics=['accuracy'])\n",
    "start = time.time()\n",
    "history1 = model3.fit(X_train_M, y_train, epochs=5, validation_data=(X_val_M, y_val))\n",
    "end = time.time()"
   ]
  },
  {
   "cell_type": "code",
   "execution_count": 23,
   "metadata": {},
   "outputs": [
    {
     "name": "stdout",
     "output_type": "stream",
     "text": [
      "runing time:52.137285470962524\n"
     ]
    }
   ],
   "source": [
    "print(\"runing time:{0}\".format(end - start))"
   ]
  },
  {
   "cell_type": "code",
   "execution_count": 22,
   "metadata": {},
   "outputs": [
    {
     "name": "stdout",
     "output_type": "stream",
     "text": [
      "              precision    recall  f1-score   support\n",
      "\n",
      "           0       1.00      1.00      1.00       900\n",
      "           1       0.96      0.99      0.98       100\n",
      "\n",
      "    accuracy                           0.99      1000\n",
      "   macro avg       0.98      0.99      0.99      1000\n",
      "weighted avg       1.00      0.99      1.00      1000\n",
      "\n"
     ]
    }
   ],
   "source": [
    "prediction = model3.predict_classes(X_val_M)\n",
    "print(classification_report(prediction, y_val))"
   ]
  },
  {
   "cell_type": "markdown",
   "metadata": {},
   "source": [
    "###  build MLP by sklearn\n",
    "From the results of these 2 ways, we can see the accuracy of them is similar while it is not good enough on recognizing the images which show the same face.\n",
    "\n",
    "I cannot use this model training all data at the same time as there was a memory overflow problem, so I decided to use 5000 images to train the model. As we can see, there is a fluctuation in loss function. Then I used 'adaptive' learning rate for training, we can see it cannot recognize the images show the same face as well, although the loss is keeping reducing."
   ]
  },
  {
   "cell_type": "code",
   "execution_count": 29,
   "metadata": {},
   "outputs": [
    {
     "name": "stdout",
     "output_type": "stream",
     "text": [
      "Iteration 1, loss = inf\n",
      "Iteration 2, loss = 0.64760575\n",
      "Iteration 3, loss = 0.42008404\n",
      "Iteration 4, loss = 0.44868461\n",
      "Iteration 5, loss = 0.46456272\n",
      "Iteration 6, loss = 0.68337258\n",
      "Iteration 7, loss = 0.65738980\n",
      "Iteration 8, loss = 0.62247933\n",
      "Iteration 9, loss = 0.59121218\n",
      "Iteration 10, loss = 0.56379479\n",
      "Iteration 11, loss = 0.53961575\n",
      "Iteration 12, loss = 0.51799291\n",
      "Iteration 13, loss = 0.49911911\n",
      "Iteration 14, loss = 0.48202371\n",
      "Training loss did not improve more than tol=0.000100 for 10 consecutive epochs. Stopping.\n"
     ]
    },
    {
     "data": {
      "text/plain": [
       "MLPClassifier(activation='relu', alpha=0.0001, batch_size='auto', beta_1=0.9,\n",
       "              beta_2=0.999, early_stopping=False, epsilon=1e-08,\n",
       "              hidden_layer_sizes=(100,), learning_rate='constant',\n",
       "              learning_rate_init=0.001, max_iter=200, momentum=0.9,\n",
       "              n_iter_no_change=10, nesterovs_momentum=True, power_t=0.5,\n",
       "              random_state=None, shuffle=True, solver='sgd', tol=0.0001,\n",
       "              validation_fraction=0.0, verbose='true', warm_start=False)"
      ]
     },
     "execution_count": 29,
     "metadata": {},
     "output_type": "execute_result"
    }
   ],
   "source": [
    "from sklearn.neural_network import MLPClassifier\n",
    "\n",
    "nn_mclf = MLPClassifier(solver='sgd',verbose='true',validation_fraction=0.0)\n",
    "\n",
    "nn_mclf.fit(X_train_M[:5000], y_train[:5000])"
   ]
  },
  {
   "cell_type": "code",
   "execution_count": 30,
   "metadata": {},
   "outputs": [
    {
     "name": "stdout",
     "output_type": "stream",
     "text": [
      "              precision    recall  f1-score   support\n",
      "\n",
      "           0       1.00      0.92      0.96      1000\n",
      "           1       0.00      0.00      0.00         0\n",
      "\n",
      "    accuracy                           0.92      1000\n",
      "   macro avg       0.50      0.46      0.48      1000\n",
      "weighted avg       1.00      0.92      0.96      1000\n",
      "\n"
     ]
    },
    {
     "name": "stderr",
     "output_type": "stream",
     "text": [
      "/root/anaconda3/envs/tf/lib/python3.6/site-packages/sklearn/metrics/classification.py:1439: UndefinedMetricWarning: Recall and F-score are ill-defined and being set to 0.0 in labels with no true samples.\n",
      "  'recall', 'true', average, warn_for)\n"
     ]
    }
   ],
   "source": [
    "prediction = nn_mclf.predict(X_train_M[:1000])\n",
    "print(classification_report(prediction, y_train[:1000]))"
   ]
  },
  {
   "cell_type": "code",
   "execution_count": 100,
   "metadata": {},
   "outputs": [
    {
     "name": "stdout",
     "output_type": "stream",
     "text": [
      "Iteration 1, loss = inf\n",
      "Iteration 2, loss = 0.28881088\n",
      "Iteration 3, loss = 0.26391992\n",
      "Iteration 4, loss = 0.25003314\n",
      "Iteration 5, loss = 0.23929900\n",
      "Iteration 6, loss = 0.23170030\n",
      "Iteration 7, loss = 0.21803071\n",
      "Iteration 8, loss = 0.20959776\n",
      "Iteration 9, loss = 0.19308330\n",
      "Iteration 10, loss = 0.18618426\n",
      "Iteration 11, loss = 0.25710631\n",
      "Iteration 12, loss = 0.26221295\n",
      "Iteration 13, loss = 0.23256898\n",
      "Iteration 14, loss = 0.22543564\n",
      "Iteration 15, loss = 0.22980256\n",
      "Iteration 16, loss = 0.22632535\n",
      "Iteration 17, loss = 0.21552896\n",
      "Iteration 18, loss = 0.20241289\n",
      "Iteration 19, loss = 0.18346864\n",
      "Iteration 20, loss = 0.17740082\n",
      "Iteration 21, loss = 0.17371175\n",
      "Iteration 22, loss = 0.17415360\n",
      "Iteration 23, loss = 0.16327382\n",
      "Iteration 24, loss = 0.19272506\n",
      "Iteration 25, loss = 0.15995806\n",
      "Iteration 26, loss = 0.16000650\n",
      "Iteration 27, loss = 0.16749216\n",
      "Iteration 28, loss = 0.15293506\n",
      "Iteration 29, loss = 0.14657213\n",
      "Iteration 30, loss = 0.14165988\n",
      "Iteration 31, loss = 0.16378268\n",
      "Iteration 32, loss = 0.14689080\n",
      "Iteration 33, loss = 0.15011439\n",
      "Iteration 34, loss = 0.15739993\n",
      "Iteration 35, loss = 0.13176336\n",
      "Iteration 36, loss = 0.13982318\n",
      "Iteration 37, loss = 0.14284528\n",
      "Iteration 38, loss = 0.12741004\n",
      "Iteration 39, loss = 0.13488852\n",
      "Iteration 40, loss = 0.13475339\n",
      "Iteration 41, loss = 0.12948780\n",
      "Iteration 42, loss = 0.12181470\n",
      "Iteration 43, loss = 0.12704329\n",
      "Iteration 44, loss = 0.14040880\n",
      "Iteration 45, loss = 0.20385388\n",
      "Iteration 46, loss = 0.12032254\n",
      "Iteration 47, loss = 0.12114584\n",
      "Iteration 48, loss = 0.12161078\n",
      "Iteration 49, loss = 0.12421163\n",
      "Iteration 50, loss = 0.11709265\n",
      "Iteration 51, loss = 0.15445971\n",
      "Iteration 52, loss = 0.14345658\n",
      "Iteration 53, loss = 0.13171697\n",
      "Iteration 54, loss = 0.10998031\n",
      "Iteration 55, loss = 0.10813073\n",
      "Iteration 56, loss = 0.10625374\n",
      "Iteration 57, loss = 0.11213713\n",
      "Iteration 58, loss = 0.16373345\n",
      "Iteration 59, loss = 0.11381992\n",
      "Iteration 60, loss = 0.11306257\n",
      "Iteration 61, loss = 0.11133503\n",
      "Iteration 62, loss = 0.10741608\n",
      "Iteration 63, loss = 0.11685244\n",
      "Iteration 64, loss = 0.13254474\n",
      "Iteration 65, loss = 0.10980561\n",
      "Iteration 66, loss = 0.11745091\n",
      "Iteration 67, loss = 0.11154489\n",
      "Training loss did not improve more than tol=0.000100 for 10 consecutive epochs. Setting learning rate to 0.000200\n",
      "Iteration 68, loss = 0.09938319\n",
      "Iteration 69, loss = 0.09292822\n",
      "Iteration 70, loss = 0.09387708\n",
      "Iteration 71, loss = 0.09197418\n",
      "Iteration 72, loss = 0.09198815\n",
      "Iteration 73, loss = 0.09124783\n",
      "Iteration 74, loss = 0.09147546\n",
      "Iteration 75, loss = 0.09170800\n",
      "Iteration 76, loss = 0.09151309\n",
      "Iteration 77, loss = 0.09109768\n",
      "Iteration 78, loss = 0.09052775\n",
      "Iteration 79, loss = 0.09091592\n",
      "Iteration 80, loss = 0.09064043\n",
      "Iteration 81, loss = 0.09016114\n",
      "Iteration 82, loss = 0.09019091\n",
      "Iteration 83, loss = 0.08950298\n",
      "Iteration 84, loss = 0.08973923\n",
      "Iteration 85, loss = 0.08963714\n",
      "Iteration 86, loss = 0.09087660\n",
      "Iteration 87, loss = 0.08939651\n",
      "Iteration 88, loss = 0.08866922\n",
      "Iteration 89, loss = 0.08839818\n",
      "Iteration 90, loss = 0.08994343\n",
      "Iteration 91, loss = 0.08832908\n",
      "Iteration 92, loss = 0.08948593\n",
      "Iteration 93, loss = 0.08850334\n",
      "Iteration 94, loss = 0.08813840\n",
      "Iteration 95, loss = 0.08836101\n",
      "Iteration 96, loss = 0.08786800\n",
      "Iteration 97, loss = 0.08711771\n",
      "Iteration 98, loss = 0.08802351\n",
      "Iteration 99, loss = 0.08743627\n",
      "Iteration 100, loss = 0.08725524\n",
      "Iteration 101, loss = 0.08758847\n",
      "Iteration 102, loss = 0.08865107\n",
      "Iteration 103, loss = 0.08709965\n",
      "Iteration 104, loss = 0.08686757\n",
      "Iteration 105, loss = 0.08774660\n",
      "Iteration 106, loss = 0.08620307\n",
      "Iteration 107, loss = 0.08649233\n",
      "Iteration 108, loss = 0.08644789\n",
      "Iteration 109, loss = 0.08610713\n",
      "Iteration 110, loss = 0.08593616\n",
      "Iteration 111, loss = 0.08565521\n",
      "Iteration 112, loss = 0.08574240\n",
      "Iteration 113, loss = 0.08569475\n",
      "Iteration 114, loss = 0.08624682\n",
      "Iteration 115, loss = 0.08529613\n",
      "Iteration 116, loss = 0.08584751\n",
      "Iteration 117, loss = 0.08568187\n",
      "Iteration 118, loss = 0.08489643\n",
      "Iteration 119, loss = 0.08490962\n",
      "Iteration 120, loss = 0.08459966\n",
      "Iteration 121, loss = 0.08519660\n",
      "Iteration 122, loss = 0.08501300\n",
      "Iteration 123, loss = 0.08435606\n",
      "Iteration 124, loss = 0.08441041\n",
      "Iteration 125, loss = 0.08482845\n",
      "Iteration 126, loss = 0.08452839\n",
      "Iteration 127, loss = 0.08467099\n",
      "Iteration 128, loss = 0.08430640\n",
      "Iteration 129, loss = 0.08428768\n",
      "Iteration 130, loss = 0.08367562\n",
      "Iteration 131, loss = 0.08372609\n",
      "Iteration 132, loss = 0.08345753\n",
      "Iteration 133, loss = 0.08416835\n",
      "Iteration 134, loss = 0.08382500\n",
      "Iteration 135, loss = 0.08328310\n",
      "Iteration 136, loss = 0.08378531\n",
      "Iteration 137, loss = 0.08321953\n",
      "Iteration 138, loss = 0.08314609\n",
      "Iteration 139, loss = 0.08341332\n",
      "Iteration 140, loss = 0.08298699\n",
      "Iteration 141, loss = 0.08326200\n",
      "Iteration 142, loss = 0.08301440\n",
      "Iteration 143, loss = 0.08322685\n",
      "Iteration 144, loss = 0.08308438\n",
      "Iteration 145, loss = 0.08315340\n",
      "Iteration 146, loss = 0.08314305\n",
      "Iteration 147, loss = 0.08318106\n",
      "Iteration 148, loss = 0.08404137\n",
      "Iteration 149, loss = 0.08309601\n",
      "Iteration 150, loss = 0.08269205\n",
      "Iteration 151, loss = 0.08274628\n",
      "Iteration 152, loss = 0.08346607\n",
      "Iteration 153, loss = 0.08201438\n",
      "Iteration 154, loss = 0.08214312\n",
      "Iteration 155, loss = 0.08256854\n",
      "Iteration 156, loss = 0.08218699\n",
      "Iteration 157, loss = 0.08186508\n",
      "Iteration 158, loss = 0.08160294\n",
      "Iteration 159, loss = 0.08201706\n",
      "Iteration 160, loss = 0.08162092\n",
      "Iteration 161, loss = 0.08205732\n",
      "Iteration 162, loss = 0.08237055\n",
      "Iteration 163, loss = 0.08251331\n",
      "Iteration 164, loss = 0.08149900\n",
      "Iteration 165, loss = 0.08169251\n",
      "Iteration 166, loss = 0.08180743\n",
      "Iteration 167, loss = 0.08174225\n",
      "Iteration 168, loss = 0.08115483\n",
      "Iteration 169, loss = 0.08116861\n",
      "Iteration 170, loss = 0.08160803\n",
      "Iteration 171, loss = 0.08082952\n",
      "Iteration 172, loss = 0.08097545\n",
      "Iteration 173, loss = 0.08196861\n",
      "Iteration 174, loss = 0.08146829\n",
      "Iteration 175, loss = 0.08111004\n",
      "Iteration 176, loss = 0.08062651\n",
      "Iteration 177, loss = 0.08065447\n",
      "Iteration 178, loss = 0.08038101\n",
      "Iteration 179, loss = 0.08067528\n",
      "Iteration 180, loss = 0.08085482\n",
      "Iteration 181, loss = 0.08023740\n",
      "Iteration 182, loss = 0.08049208\n",
      "Iteration 183, loss = 0.08026314\n",
      "Iteration 184, loss = 0.08045684\n",
      "Iteration 185, loss = 0.08032674\n",
      "Iteration 186, loss = 0.08039372\n",
      "Iteration 187, loss = 0.08099775\n",
      "Iteration 188, loss = 0.08049622\n",
      "Iteration 189, loss = 0.08048737\n",
      "Iteration 190, loss = 0.08023212\n",
      "Iteration 191, loss = 0.07999246\n",
      "Iteration 192, loss = 0.08021110\n",
      "Iteration 193, loss = 0.07995122\n",
      "Iteration 194, loss = 0.08003608\n",
      "Iteration 195, loss = 0.08081993\n",
      "Iteration 196, loss = 0.08003554\n",
      "Iteration 197, loss = 0.07972391\n",
      "Iteration 198, loss = 0.07976478\n",
      "Iteration 199, loss = 0.07979655\n",
      "Iteration 200, loss = 0.07995967\n"
     ]
    },
    {
     "name": "stderr",
     "output_type": "stream",
     "text": [
      "/root/anaconda3/envs/tf/lib/python3.6/site-packages/sklearn/neural_network/multilayer_perceptron.py:566: ConvergenceWarning: Stochastic Optimizer: Maximum iterations (200) reached and the optimization hasn't converged yet.\n",
      "  % self.max_iter, ConvergenceWarning)\n"
     ]
    },
    {
     "data": {
      "text/plain": [
       "MLPClassifier(activation='relu', alpha=0.0001, batch_size='auto', beta_1=0.9,\n",
       "              beta_2=0.999, early_stopping=False, epsilon=1e-08,\n",
       "              hidden_layer_sizes=(100,), learning_rate='adaptive',\n",
       "              learning_rate_init=0.001, max_iter=200, momentum=0.9,\n",
       "              n_iter_no_change=10, nesterovs_momentum=True, power_t=0.5,\n",
       "              random_state=None, shuffle=True, solver='sgd', tol=0.0001,\n",
       "              validation_fraction=0.0, verbose='true', warm_start=False)"
      ]
     },
     "execution_count": 100,
     "metadata": {},
     "output_type": "execute_result"
    }
   ],
   "source": [
    "nn_mclf1 = MLPClassifier(solver='sgd',verbose='true', learning_rate='adaptive',validation_fraction=0.0)\n",
    "\n",
    "nn_mclf1.fit(X_train_M[:5000], y_train[:5000])"
   ]
  },
  {
   "cell_type": "code",
   "execution_count": 103,
   "metadata": {},
   "outputs": [
    {
     "name": "stdout",
     "output_type": "stream",
     "text": [
      "              precision    recall  f1-score   support\n",
      "\n",
      "           0       1.00      0.90      0.95      1000\n",
      "           1       0.00      0.00      0.00         0\n",
      "\n",
      "    accuracy                           0.90      1000\n",
      "   macro avg       0.50      0.45      0.47      1000\n",
      "weighted avg       1.00      0.90      0.95      1000\n",
      "\n"
     ]
    },
    {
     "name": "stderr",
     "output_type": "stream",
     "text": [
      "/root/anaconda3/envs/tf/lib/python3.6/site-packages/sklearn/metrics/classification.py:1439: UndefinedMetricWarning: Recall and F-score are ill-defined and being set to 0.0 in labels with no true samples.\n",
      "  'recall', 'true', average, warn_for)\n"
     ]
    }
   ],
   "source": [
    "prediction = nn_mclf.predict(X_val_M)\n",
    "print(classification_report(prediction, y_val))"
   ]
  },
  {
   "attachments": {
    "Screenshot%20from%202019-10-23%2010-38-08.png": {
     "image/png": "[encoded data removed]"
    },
    "image.png": {
     "image/png": "[encoded data removed]"
    }
   },
   "cell_type": "markdown",
   "metadata": {},
   "source": [
    "## 2.4 Classification Comparison\n",
    "\n",
    "From the results, we can see the accuracy of both 2 ways is high enough. Particularly, It can also detect the same face into 2 images in the new data set for MLP and the match_template can do as well while its performance is not good as well as the MLP. The reason why MLP can obtain high accuracy .\n",
    "\n",
    "Except these results I also recorded running time of these two part. It took at least 230 seconds for matching while the MLP just took about less than 4 seconds. So, in the performance of efficiency, MLP is better. For training effort, in threshold 0.75, match_template(0.1)(*Figure.6*) is higher than the MLP which(0.0104)(*Figure.7*). So, the performance of the MLP model is better on accuracy. \n",
    "\n",
    "![image.png](attachment:image.png)\n",
    "<center>Figure.6 match_template</center>\n",
    "\n",
    "![Screenshot%20from%202019-10-23%2010-38-08.png](attachment:Screenshot%20from%202019-10-23%2010-38-08.png)\n",
    "<center>Figure.7 MLP</center>\n",
    "\n",
    "For generalization, we can see the accuracy(0.95) of this data set is similar to that of the training data set(0.95) and the testing data set(0.95), which means it has a good generalization. The MLP has better generalization ablitity as the accuracy and precision scores are so high."
   ]
  },
  {
   "cell_type": "code",
   "execution_count": 20,
   "metadata": {},
   "outputs": [],
   "source": [
    "file_list2, image_list2 = load_images(dir2)\n",
    "df2 = pd.DataFrame({'filenames':file_list2, 'images':image_list2})\n",
    "\n",
    "# creat label\n",
    "y2 = creat_label(df2)"
   ]
  },
  {
   "cell_type": "markdown",
   "metadata": {},
   "source": [
    "### match_template\n",
    "\n",
    "I choose 0.75 as the threshold because it get high accuracy and precision and recall score on last model."
   ]
  },
  {
   "cell_type": "code",
   "execution_count": 37,
   "metadata": {},
   "outputs": [
    {
     "name": "stdout",
     "output_type": "stream",
     "text": [
      "runing time:236.03909063339233\n",
      "accuracy:0.950402576489533\n",
      "precision_score:0.7540234452612756\n",
      "recall_score:0.7333333333333333\n"
     ]
    }
   ],
   "source": [
    "from sklearn.metrics import accuracy_score, precision_score, recall_score\n",
    "start1 = time.time()\n",
    "res2 = match(df2)\n",
    "# set 0.75 as the threshold\n",
    "end1 = time.time()\n",
    "start2 = time.time()\n",
    "y2_pred = pred(0.75, res2)\n",
    "end2 = time.time()\n",
    "print(\"runing time:{0}\".format(end1-start1))\n",
    "print(\"accuracy:{0}\".format(accuracy_score(y2, y2_pred)))\n",
    "print(\"precision_score:{0}\".format(precision_score(y2, y2_pred)))\n",
    "print(\"recall_score:{0}\".format(recall_score(y2, y2_pred)))"
   ]
  },
  {
   "cell_type": "code",
   "execution_count": 38,
   "metadata": {},
   "outputs": [
    {
     "data": {
      "text/plain": [
       "0.18110442161560059"
      ]
     },
     "execution_count": 38,
     "metadata": {},
     "output_type": "execute_result"
    }
   ],
   "source": [
    "start2 = time.time()\n",
    "y2_pred = pred(0.75, res2)\n",
    "end2 = time.time()\n",
    "end2-start2"
   ]
  },
  {
   "cell_type": "markdown",
   "metadata": {},
   "source": [
    "### MLP\n",
    "Model3 is compared to match_template"
   ]
  },
  {
   "cell_type": "code",
   "execution_count": 21,
   "metadata": {},
   "outputs": [],
   "source": [
    "# creat test data in sub31to40\n",
    "X2 = preprocessing(df2)"
   ]
  },
  {
   "cell_type": "code",
   "execution_count": 25,
   "metadata": {},
   "outputs": [
    {
     "name": "stdout",
     "output_type": "stream",
     "text": [
      "runing time:3.6663525104522705\n",
      "              precision    recall  f1-score   support\n",
      "\n",
      "           0       1.00      1.00      1.00     95220\n",
      "           1       1.00      1.00      1.00     10350\n",
      "\n",
      "    accuracy                           1.00    105570\n",
      "   macro avg       1.00      1.00      1.00    105570\n",
      "weighted avg       1.00      1.00      1.00    105570\n",
      "\n"
     ]
    }
   ],
   "source": [
    "start1 = time.time()\n",
    "prediction = model3.predict_classes(X2)\n",
    "end1 = time.time()\n",
    "print(\"runing time:{0}\".format(end1-start1))\n",
    "print(classification_report(prediction, y2))"
   ]
  },
  {
   "cell_type": "markdown",
   "metadata": {},
   "source": [
    "test of model with 2 dense layer and without BN layer."
   ]
  },
  {
   "cell_type": "code",
   "execution_count": 19,
   "metadata": {},
   "outputs": [
    {
     "name": "stdout",
     "output_type": "stream",
     "text": [
      "runing time:2.720876932144165\n",
      "              precision    recall  f1-score   support\n",
      "\n",
      "           0       1.00      0.90      0.95    105570\n",
      "           1       0.00      0.00      0.00         0\n",
      "\n",
      "    accuracy                           0.90    105570\n",
      "   macro avg       0.50      0.45      0.47    105570\n",
      "weighted avg       1.00      0.90      0.95    105570\n",
      "\n"
     ]
    },
    {
     "name": "stderr",
     "output_type": "stream",
     "text": [
      "/root/anaconda3/envs/tf/lib/python3.6/site-packages/sklearn/metrics/classification.py:1439: UndefinedMetricWarning: Recall and F-score are ill-defined and being set to 0.0 in labels with no true samples.\n",
      "  'recall', 'true', average, warn_for)\n"
     ]
    }
   ],
   "source": [
    "\n",
    "start1 = time.time()\n",
    "prediction = model.predict_classes(X2)\n",
    "end1 = time.time()\n",
    "print(\"runing time:{0}\".format(end1-start1))\n",
    "print(classification_report(prediction, y2))"
   ]
  },
  {
   "cell_type": "markdown",
   "metadata": {},
   "source": [
    "## 2.5 Bonus\n",
    "I combine match_template and MLP(the model without BN layer) to increase the model accuracy. The reason why I use the model without BN layer is that with BN layer the MLP is good enough and I want to increase the performance of MLP without BN layer.\n",
    "I use the results from match template as the training data. From the results, we can see the accuracy(0.95) is higher than the old MLP. This method sacrifices time performance but achieves better a moodel with better generalization. I also test the model on sub31to40 data set which got good results as well, although it still not good enouth than the MLP model with BN layer."
   ]
  },
  {
   "cell_type": "code",
   "execution_count": 11,
   "metadata": {},
   "outputs": [
    {
     "name": "stdout",
     "output_type": "stream",
     "text": [
      "Train on 104570 samples, validate on 1000 samples\n",
      "Epoch 1/10\n",
      "104570/104570 [==============================] - 4s 43us/sample - loss: 0.1548 - acc: 0.9526 - val_loss: 0.1503 - val_acc: 0.9500\n",
      "Epoch 2/10\n",
      "104570/104570 [==============================] - 4s 41us/sample - loss: 0.1408 - acc: 0.9557 - val_loss: 0.1470 - val_acc: 0.9500\n",
      "Epoch 3/10\n",
      "104570/104570 [==============================] - 4s 41us/sample - loss: 0.1400 - acc: 0.9556 - val_loss: 0.1564 - val_acc: 0.9500\n",
      "Epoch 4/10\n",
      "104570/104570 [==============================] - 4s 42us/sample - loss: 0.1404 - acc: 0.9554 - val_loss: 0.1464 - val_acc: 0.9490\n",
      "Epoch 5/10\n",
      "104570/104570 [==============================] - 4s 43us/sample - loss: 0.1401 - acc: 0.9555 - val_loss: 0.1468 - val_acc: 0.9510\n",
      "Epoch 6/10\n",
      "104570/104570 [==============================] - 4s 42us/sample - loss: 0.1396 - acc: 0.9558 - val_loss: 0.1466 - val_acc: 0.9540\n",
      "Epoch 7/10\n",
      "104570/104570 [==============================] - 5s 47us/sample - loss: 0.1397 - acc: 0.9555 - val_loss: 0.1467 - val_acc: 0.9520\n",
      "Epoch 8/10\n",
      "104570/104570 [==============================] - 5s 47us/sample - loss: 0.1394 - acc: 0.9560 - val_loss: 0.1463 - val_acc: 0.9490\n",
      "Epoch 9/10\n",
      "104570/104570 [==============================] - 4s 42us/sample - loss: 0.1396 - acc: 0.9558 - val_loss: 0.1465 - val_acc: 0.9530\n",
      "Epoch 10/10\n",
      "104570/104570 [==============================] - 5s 44us/sample - loss: 0.1392 - acc: 0.9560 - val_loss: 0.1552 - val_acc: 0.9500\n"
     ]
    }
   ],
   "source": [
    "model_new = Sequential()\n",
    "# model_new.add(Flatten())\n",
    "model_new.add(Dense(64, activation='relu'))\n",
    "model_new.add(Dense(128, activation='relu'))\n",
    "model_new.add(Dense(2, activation='softmax'))\n",
    "model_new.compile(loss='sparse_categorical_crossentropy',\n",
    "              learning_rate = '1e-4',\n",
    "              optimizer='adam',\n",
    "              metrics=['accuracy'])\n",
    "start = time.time()\n",
    "history_new = model_new.fit(X_train, y_train, epochs=10, validation_data=(X_val, y_val))"
   ]
  },
  {
   "cell_type": "code",
   "execution_count": 13,
   "metadata": {},
   "outputs": [
    {
     "name": "stdout",
     "output_type": "stream",
     "text": [
      "              precision    recall  f1-score   support\n",
      "\n",
      "           0       0.98      0.96      0.97       911\n",
      "           1       0.69      0.80      0.74        89\n",
      "\n",
      "    accuracy                           0.95      1000\n",
      "   macro avg       0.83      0.88      0.86      1000\n",
      "weighted avg       0.95      0.95      0.95      1000\n",
      "\n"
     ]
    }
   ],
   "source": [
    "prediction = model_new.predict_classes(X_val)\n",
    "print(classification_report(prediction, y_val))"
   ]
  },
  {
   "cell_type": "markdown",
   "metadata": {},
   "source": [
    "**On sub31to40 data set**"
   ]
  },
  {
   "cell_type": "code",
   "execution_count": 28,
   "metadata": {},
   "outputs": [],
   "source": [
    "result2 = match(df2)"
   ]
  },
  {
   "cell_type": "code",
   "execution_count": 29,
   "metadata": {},
   "outputs": [
    {
     "name": "stdout",
     "output_type": "stream",
     "text": [
      "              precision    recall  f1-score   support\n",
      "\n",
      "           0       0.98      0.97      0.98     96476\n",
      "           1       0.71      0.81      0.75      9094\n",
      "\n",
      "    accuracy                           0.95    105570\n",
      "   macro avg       0.84      0.89      0.86    105570\n",
      "weighted avg       0.96      0.95      0.96    105570\n",
      "\n"
     ]
    }
   ],
   "source": [
    "prediction = model_new.predict_classes(result2)\n",
    "print(classification_report(prediction, y2))"
   ]
  },
  {
   "cell_type": "code",
   "execution_count": 16,
   "metadata": {},
   "outputs": [
    {
     "data": {
      "image/png": "[encoded data removed]",
      "text/plain": [
       "<Figure size 576x576 with 2 Axes>"
      ]
     },
     "metadata": {
      "needs_background": "light"
     },
     "output_type": "display_data"
    }
   ],
   "source": [
    "acc = history_new.history['acc']\n",
    "val_acc = history_new.history['val_acc']\n",
    "\n",
    "loss = history_new.history['loss']\n",
    "val_loss = history_new.history['val_loss']\n",
    "\n",
    "epochs_range = range(10)\n",
    "\n",
    "plt.figure(figsize=(8, 8))\n",
    "plt.subplot(1, 2, 1)\n",
    "plt.plot(epochs_range, acc, label='Training Accuracy')\n",
    "plt.plot(epochs_range, val_acc, label='Validation Accuracy')\n",
    "plt.legend(loc='lower right')\n",
    "plt.title('Training and Validation Accuracy')\n",
    "\n",
    "plt.subplot(1, 2, 2)\n",
    "plt.plot(epochs_range, loss, label='Training Loss')\n",
    "plt.plot(epochs_range, val_loss, label='Validation Loss')\n",
    "plt.legend(loc='upper right')\n",
    "plt.title('Training and Validation Loss')\n",
    "plt.show()"
   ]
  },
  {
   "cell_type": "markdown",
   "metadata": {},
   "source": [
    "## 2.6 Conclusion \n",
    "1. MLP has better time performance than template matching.\n",
    "2. There will be a gradient vanishing problem when we are training the MLP model. I searched the connection about training loss and testing loss. I checked the label and data set for preventing that raining set and label do not correspond. I changed learning rate and found the results were almost same. After that, I maked sure that there is a gradient vanishing problem.\n",
    "3. Adding batch normalization way would prevent gradient vanishing.\n",
    "4. The performance of template matching relys on the threshold which is too subjective and not rigorous"
   ]
  }
 ],
 "metadata": {
  "kernelspec": {
   "display_name": "Python 3",
   "language": "python",
   "name": "python3"
  },
  "language_info": {
   "codemirror_mode": {
    "name": "ipython",
    "version": 3
   },
   "file_extension": ".py",
   "mimetype": "text/x-python",
   "name": "python",
   "nbconvert_exporter": "python",
   "pygments_lexer": "ipython3",
   "version": "3.7.4"
  }
 },
 "nbformat": 4,
 "nbformat_minor": 2
}
